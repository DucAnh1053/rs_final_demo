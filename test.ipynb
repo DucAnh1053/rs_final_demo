{
 "cells": [
  {
   "cell_type": "code",
   "execution_count": 1,
   "metadata": {},
   "outputs": [
    {
     "name": "stdout",
     "output_type": "stream",
     "text": [
      "Connected to MongoDB\n"
     ]
    }
   ],
   "source": [
    "import numpy as np\n",
    "from dataset import Dataset\n",
    "import implicit\n",
    "from implicit.evaluation import ranking_metrics_at_k, precision_at_k, train_test_split, AUC_at_k, mean_average_precision_at_k, ndcg_at_k\n",
    "from rankfm.rankfm import RankFM\n",
    "from utils.tools import ranking_metrics_at_k_rankfm, recommend_cold_start"
   ]
  },
  {
   "cell_type": "code",
   "execution_count": null,
   "metadata": {},
   "outputs": [],
   "source": [
    "data = Dataset.get_data_from_mongo()\n",
    "data.save('dataset.pkl')"
   ]
  },
  {
   "cell_type": "code",
   "execution_count": 2,
   "metadata": {},
   "outputs": [],
   "source": [
    "data = Dataset.load('dataset.pkl')"
   ]
  },
  {
   "cell_type": "code",
   "execution_count": 3,
   "metadata": {},
   "outputs": [
    {
     "data": {
      "text/plain": [
       "{'specialization_10': 0,\n",
       " 'specialization_11': 1,\n",
       " 'specialization_12': 2,\n",
       " 'specialization_5': 3,\n",
       " 'specialization_6': 4,\n",
       " 'specialization_7': 5,\n",
       " 'specialization_8': 6,\n",
       " 'specialization_9': 7,\n",
       " 'specialization_nan': 8}"
      ]
     },
     "execution_count": 3,
     "metadata": {},
     "output_type": "execute_result"
    }
   ],
   "source": [
    "data.player_feature_to_ix"
   ]
  },
  {
   "cell_type": "code",
   "execution_count": 3,
   "metadata": {},
   "outputs": [],
   "source": [
    "# split 80% train, 20% test\n",
    "\n",
    "x_train, y_train, x_test, y_test = data.train_test_split_interaction(\n",
    "    train_percentage=0.8, random_state=42\n",
    ")  # for fm\n",
    "train, test = data.train_test_split_sparse(\n",
    "    train_percentage=0.8, random_state=42\n",
    ")  # for knn, als"
   ]
  },
  {
   "cell_type": "code",
   "execution_count": 4,
   "metadata": {},
   "outputs": [
    {
     "name": "stderr",
     "output_type": "stream",
     "text": [
      "c:\\Users\\DucAnh\\miniconda3\\envs\\rs\\Lib\\site-packages\\implicit\\utils.py:164: ParameterWarning: Method expects CSR input, and was passed coo_matrix instead. Converting to CSR took 0.0010001659393310547 seconds\n",
      "  warnings.warn(\n"
     ]
    },
    {
     "data": {
      "application/vnd.jupyter.widget-view+json": {
       "model_id": "a699d895b62e47ffb7ea1f157eb87043",
       "version_major": 2,
       "version_minor": 0
      },
      "text/plain": [
       "  0%|          | 0/212 [00:00<?, ?it/s]"
      ]
     },
     "metadata": {},
     "output_type": "display_data"
    },
    {
     "data": {
      "application/vnd.jupyter.widget-view+json": {
       "model_id": "a72b39c8ebcd47daa2e80c334109ef96",
       "version_major": 2,
       "version_minor": 0
      },
      "text/plain": [
       "  0%|          | 0/1191 [00:00<?, ?it/s]"
      ]
     },
     "metadata": {},
     "output_type": "display_data"
    },
    {
     "name": "stdout",
     "output_type": "stream",
     "text": [
      "{'precision': 0.9475537787930707, 'map': 0.8862604061355857, 'ndcg': 0.9184897626473643, 'auc': 0.7157208976910755}\n"
     ]
    }
   ],
   "source": [
    "knn_model = implicit.nearest_neighbours.CosineRecommender(K=10)\n",
    "knn_model.fit(train)\n",
    "print(ranking_metrics_at_k(knn_model, train, test))"
   ]
  },
  {
   "cell_type": "code",
   "execution_count": 5,
   "metadata": {},
   "outputs": [],
   "source": [
    "knn_model.save('knn_model.npz')"
   ]
  },
  {
   "cell_type": "code",
   "execution_count": 6,
   "metadata": {},
   "outputs": [
    {
     "name": "stderr",
     "output_type": "stream",
     "text": [
      "c:\\Users\\DucAnh\\miniconda3\\envs\\rs\\Lib\\site-packages\\implicit\\cpu\\als.py:95: RuntimeWarning: Intel MKL BLAS is configured to use 6 threads. It is highly recommended to disable its internal threadpool by setting the environment variable 'MKL_NUM_THREADS=1' or by callng 'threadpoolctl.threadpool_limits(1, \"blas\")'. Having MKL use a threadpool can lead to severe performance issues\n",
      "  check_blas_config()\n",
      "c:\\Users\\DucAnh\\miniconda3\\envs\\rs\\Lib\\site-packages\\implicit\\cpu\\als.py:95: RuntimeWarning: OpenBLAS is configured to use 12 threads. It is highly recommended to disable its internal threadpool by setting the environment variable 'OPENBLAS_NUM_THREADS=1' or by calling 'threadpoolctl.threadpool_limits(1, \"blas\")'. Having OpenBLAS use a threadpool can lead to severe performance issues here.\n",
      "  check_blas_config()\n"
     ]
    },
    {
     "data": {
      "application/vnd.jupyter.widget-view+json": {
       "model_id": "968f9bb1b645490da4a31e36a8899093",
       "version_major": 2,
       "version_minor": 0
      },
      "text/plain": [
       "  0%|          | 0/15 [00:00<?, ?it/s]"
      ]
     },
     "metadata": {},
     "output_type": "display_data"
    },
    {
     "data": {
      "application/vnd.jupyter.widget-view+json": {
       "model_id": "282f1fe11cd74da6a34d8453f41d2f5f",
       "version_major": 2,
       "version_minor": 0
      },
      "text/plain": [
       "  0%|          | 0/1191 [00:00<?, ?it/s]"
      ]
     },
     "metadata": {},
     "output_type": "display_data"
    },
    {
     "name": "stdout",
     "output_type": "stream",
     "text": [
      "{'precision': 0.9715400723396155, 'map': 0.9293158616029052, 'ndcg': 0.9508460027803319, 'auc': 0.7311049760139611}\n"
     ]
    }
   ],
   "source": [
    "als_model = implicit.als.AlternatingLeastSquares(factors=50, alpha=70, random_state=0)\n",
    "als_model.fit(train)\n",
    "print(ranking_metrics_at_k(als_model, train, test))"
   ]
  },
  {
   "cell_type": "code",
   "execution_count": 7,
   "metadata": {},
   "outputs": [],
   "source": [
    "als_model.save('als_model.npz')"
   ]
  },
  {
   "cell_type": "code",
   "execution_count": 8,
   "metadata": {},
   "outputs": [],
   "source": [
    "# uf, if, w for FM\n",
    "user_features = data.player_features\n",
    "item_features = data.question_features\n",
    "weights = data.get_numpy_weights()"
   ]
  },
  {
   "cell_type": "code",
   "execution_count": 9,
   "metadata": {},
   "outputs": [
    {
     "name": "stdout",
     "output_type": "stream",
     "text": [
      "{992, 1024, 808, 522, 237, 820, 1180} set()\n"
     ]
    }
   ],
   "source": [
    "train_players = np.unique(x_train[:, 0])\n",
    "test_players = np.unique(x_test[:, 0])\n",
    "train_questions = np.unique(x_train[:, 1])\n",
    "test_questions = np.unique(x_test[:, 1])\n",
    "\n",
    "cold_start_players = set(test_players) - set(train_players)\n",
    "cold_start_questions = set(test_questions) - set(train_questions)\n",
    "\n",
    "print(cold_start_players, cold_start_questions)"
   ]
  },
  {
   "cell_type": "code",
   "execution_count": 10,
   "metadata": {},
   "outputs": [],
   "source": [
    "train_user_features = user_features[np.isin(user_features[:, 0], train_players)]\n",
    "# test_user_features = user_features[np.isin(user_features[:, 0], test_players)]\n",
    "train_item_features = item_features[np.isin(item_features[:, 0], train_questions)]\n",
    "# test_item_features = item_features[np.isin(item_features[:, 0], test_questions)]"
   ]
  },
  {
   "cell_type": "code",
   "execution_count": 11,
   "metadata": {},
   "outputs": [
    {
     "name": "stderr",
     "output_type": "stream",
     "text": [
      "100%|██████████| 1189/1189 [00:00<00:00, 1214.76it/s]"
     ]
    },
    {
     "name": "stdout",
     "output_type": "stream",
     "text": [
      "{'precision': 0.9505411049933549, 'map': 0.8848568188839874, 'ndcg': 0.915542389149842, 'auc': 0.7116658070123991}\n"
     ]
    },
    {
     "name": "stderr",
     "output_type": "stream",
     "text": [
      "\n"
     ]
    }
   ],
   "source": [
    "fm_model = RankFM(\n",
    "    factors=50,\n",
    "    loss=\"warp\",\n",
    "    max_samples=20,\n",
    "    learning_schedule='invscaling', \n",
    ")\n",
    "fm_model.fit(interactions=x_train, user_features=train_user_features, item_features=train_item_features, sample_weight=y_train, epochs=20, verbose=True)\n",
    "print(ranking_metrics_at_k_rankfm(fm_model, x_train, y_train, x_test, y_test, K=10))"
   ]
  },
  {
   "cell_type": "code",
   "execution_count": 12,
   "metadata": {},
   "outputs": [],
   "source": [
    "import pickle\n",
    "\n",
    "with open(\"fm_model.pkl\", \"wb\") as file:\n",
    "    pickle.dump(fm_model, file)"
   ]
  }
 ],
 "metadata": {
  "kernelspec": {
   "display_name": "rs",
   "language": "python",
   "name": "python3"
  },
  "language_info": {
   "codemirror_mode": {
    "name": "ipython",
    "version": 3
   },
   "file_extension": ".py",
   "mimetype": "text/x-python",
   "name": "python",
   "nbconvert_exporter": "python",
   "pygments_lexer": "ipython3",
   "version": "3.11.9"
  }
 },
 "nbformat": 4,
 "nbformat_minor": 2
}
